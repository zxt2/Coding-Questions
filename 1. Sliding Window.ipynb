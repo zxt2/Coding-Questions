{
 "cells": [
  {
   "cell_type": "markdown",
   "id": "monthly-first",
   "metadata": {},
   "source": [
    "Pattern: Sliding Window"
   ]
  },
  {
   "cell_type": "markdown",
   "id": "trained-license",
   "metadata": {},
   "source": [
    "1.Maximum Sum Subarray of Size K"
   ]
  },
  {
   "cell_type": "markdown",
   "id": "physical-examination",
   "metadata": {},
   "source": [
    "Problem Statement #\n",
    "Given an array of positive numbers and a positive number ‘k’, find the maximum sum of any contiguous subarray of size ‘k’.\n",
    "\n",
    "Example 1:\n",
    "Input: [2, 1, 5, 1, 3, 2], k=3 \n",
    "Output: 9\n",
    "Explanation: Subarray with maximum sum is [5, 1, 3].\n",
    "\n",
    "Example 2:\n",
    "Input: [2, 3, 4, 1, 5], k=2 \n",
    "Output: 7\n",
    "Explanation: Subarray with maximum sum is [3, 4]."
   ]
  },
  {
   "cell_type": "code",
   "execution_count": 11,
   "id": "intense-plaza",
   "metadata": {},
   "outputs": [],
   "source": [
    "def max_sub_array_of_size_k(nums, k):\n",
    "    windowsum = sum(nums[:k])\n",
    "    maxsum = windowsum\n",
    "    for i in range(len(nums)-k):\n",
    "        windowsum = windowsum-nums[i]+nums[i+k]\n",
    "        maxsum = max(maxsum,windowsum)\n",
    "    return maxsum"
   ]
  },
  {
   "cell_type": "markdown",
   "id": "angry-newcastle",
   "metadata": {},
   "source": [
    "2.Smallest Subarray with a given sum"
   ]
  },
  {
   "cell_type": "markdown",
   "id": "binding-laser",
   "metadata": {},
   "source": [
    "Problem Statement #\n",
    "Given an array of positive numbers and a positive number ‘S’, find the length of the smallest contiguous subarray whose sum is greater than or equal to ‘S’. Return 0, if no such subarray exists.\n",
    "\n",
    "Example 1:\n",
    "Input: [2, 1, 5, 2, 3, 2], S=7 \n",
    "Output: 2\n",
    "Explanation: The smallest subarray with a sum great than or equal to '7' is [5, 2].\n",
    "\n",
    "Example 2:\n",
    "Input: [2, 1, 5, 2, 8], S=7 \n",
    "Output: 1\n",
    "Explanation: The smallest subarray with a sum greater than or equal to '7' is [8].\n",
    "\n",
    "Example 3:\n",
    "Input: [3, 4, 1, 1, 6], S=8 \n",
    "Output: 3\n",
    "Explanation: Smallest subarrays with a sum greater than or equal to '8' are [3, 4, 1] or [1, 1, 6]."
   ]
  },
  {
   "cell_type": "code",
   "execution_count": null,
   "id": "disabled-compromise",
   "metadata": {},
   "outputs": [],
   "source": []
  },
  {
   "cell_type": "code",
   "execution_count": null,
   "id": "cubic-consolidation",
   "metadata": {},
   "outputs": [],
   "source": []
  },
  {
   "cell_type": "code",
   "execution_count": null,
   "id": "digital-experiment",
   "metadata": {},
   "outputs": [],
   "source": []
  },
  {
   "cell_type": "code",
   "execution_count": null,
   "id": "authorized-hygiene",
   "metadata": {},
   "outputs": [],
   "source": []
  }
 ],
 "metadata": {
  "kernelspec": {
   "display_name": "Python 3",
   "language": "python",
   "name": "python3"
  },
  "language_info": {
   "codemirror_mode": {
    "name": "ipython",
    "version": 3
   },
   "file_extension": ".py",
   "mimetype": "text/x-python",
   "name": "python",
   "nbconvert_exporter": "python",
   "pygments_lexer": "ipython3",
   "version": "3.8.0"
  }
 },
 "nbformat": 4,
 "nbformat_minor": 5
}
