{
 "cells": [
  {
   "cell_type": "markdown",
   "id": "jewish-midwest",
   "metadata": {},
   "source": [
    "Pattern: Sliding Window"
   ]
  },
  {
   "cell_type": "markdown",
   "id": "eleven-berkeley",
   "metadata": {},
   "source": [
    "1# Maximum Sum Subarray of Size K"
   ]
  },
  {
   "cell_type": "markdown",
   "id": "wired-mention",
   "metadata": {},
   "source": [
    "Problem Statement #  \n",
    "Given an array of positive numbers and a positive number ‘k’, find the maximum sum of any contiguous subarray of size ‘k’.  \n",
    "\n",
    "Example 1:  \n",
    "Input: [2, 1, 5, 1, 3, 2], k=3   \n",
    "Output: 9  \n",
    "Explanation: Subarray with maximum sum is [5, 1, 3].  \n",
    "\n",
    "Example 2:  \n",
    "Input: [2, 3, 4, 1, 5], k=2   \n",
    "Output: 7  \n",
    "Explanation: Subarray with maximum sum is [3, 4]."
   ]
  },
  {
   "cell_type": "code",
   "execution_count": 61,
   "id": "developmental-olympus",
   "metadata": {},
   "outputs": [],
   "source": [
    "def max_sub_array_of_size_k(nums, k):\n",
    "    windowsum = sum(nums[:k])\n",
    "    maxsum = windowsum\n",
    "    for i in range(len(nums)-k):\n",
    "        windowsum = windowsum-nums[i]+nums[i+k]\n",
    "        maxsum = max(maxsum,windowsum)\n",
    "    return maxsum"
   ]
  },
  {
   "cell_type": "markdown",
   "id": "transparent-glass",
   "metadata": {},
   "source": [
    "2# Smallest Subarray with a given sum"
   ]
  },
  {
   "cell_type": "markdown",
   "id": "committed-sharp",
   "metadata": {},
   "source": [
    "Problem Statement #  \n",
    "Given an array of positive numbers and a positive number ‘S’, find the length of the smallest contiguous subarray whose sum is greater than or equal to ‘S’. Return 0, if no such subarray exists.  \n",
    "\n",
    "Example 1:  \n",
    "Input: [2, 1, 5, 2, 3, 2], S=7   \n",
    "Output: 2  \n",
    "Explanation: The smallest subarray with a sum great than or equal to '7' is [5, 2].  \n",
    "\n",
    "Example 2:  \n",
    "Input: [2, 1, 5, 2, 8], S=7   \n",
    "Output: 1  \n",
    "Explanation: The smallest subarray with a sum greater than or equal to '7' is [8].  \n",
    "\n",
    "Example 3:  \n",
    "Input: [3, 4, 1, 1, 6], S=8   \n",
    "Output: 3  \n",
    "Explanation: Smallest subarrays with a sum greater than or equal to '8' are [3, 4, 1] or [1, 1, 6].  "
   ]
  },
  {
   "cell_type": "code",
   "execution_count": 24,
   "id": "warming-martial",
   "metadata": {},
   "outputs": [],
   "source": [
    "def smallest_subarray_with_given_sum(nums,S):\n",
    "    if sum(nums) < S:\n",
    "        return 0\n",
    "    l = 0\n",
    "    windowsum = 0\n",
    "    minlen = len(nums)\n",
    "    for r in range(len(nums)):\n",
    "        windowsum += nums[r]\n",
    "        while windowsum-nums[l]>=S:\n",
    "            windowsum -= nums[l]\n",
    "            l += 1\n",
    "        if windowsum >= S:\n",
    "            minlen = min(minlen, r-l+1)\n",
    "    return minlen"
   ]
  },
  {
   "cell_type": "markdown",
   "id": "interracial-armenia",
   "metadata": {},
   "source": [
    "3# Longest Substring with K Distinct Characters  "
   ]
  },
  {
   "cell_type": "markdown",
   "id": "electoral-president",
   "metadata": {},
   "source": [
    "Problem Statement #  \n",
    "Given a string, find the length of the longest substring in it with no more than K distinct characters.  \n",
    "\n",
    "Example 1:  \n",
    "Input: String=\"araaci\", K=2  \n",
    "Output: 4    \n",
    "Explanation: The longest substring with no more than '2' distinct characters is \"araa\".  \n",
    "\n",
    "Example 2:  \n",
    "Input: String=\"araaci\", K=1  \n",
    "Output: 2  \n",
    "Explanation: The longest substring with no more than '1' distinct characters is \"aa\".  \n",
    "\n",
    "Example 3:  \n",
    "Input: String=\"cbbebi\", K=3  \n",
    "Output: 5  \n",
    "Explanation: The longest substrings with no more than '3' distinct characters are \"cbbeb\" & \"bbebi\".  "
   ]
  },
  {
   "cell_type": "code",
   "execution_count": 41,
   "id": "gothic-resource",
   "metadata": {},
   "outputs": [],
   "source": [
    "def longest_substring_with_k_distinct(s, k):\n",
    "    l = 0\n",
    "    dic = {}\n",
    "    maxlen = 0\n",
    "    for r in range(len(s)):\n",
    "        if s[r] not in dic:\n",
    "            dic[s[r]] = 1\n",
    "        else:\n",
    "            dic[s[r]] += 1\n",
    "        while len(dic) > k:\n",
    "            dic[s[l]] -= 1\n",
    "            if dic[s[l]] == 0:\n",
    "                del dic[s[l]]\n",
    "            l += 1\n",
    "        maxlen = max(maxlen,r-l+1)\n",
    "    return maxlen"
   ]
  },
  {
   "cell_type": "markdown",
   "id": "incident-flush",
   "metadata": {},
   "source": [
    "4# Fruits into Baskets  "
   ]
  },
  {
   "cell_type": "markdown",
   "id": "opponent-acrobat",
   "metadata": {},
   "source": [
    "Problem Statement #  \n",
    "Given an array of characters where each character represents a fruit tree, you are given two baskets and your goal is to put maximum number of fruits in each basket. The only restriction is that each basket can have only one type of fruit.  \n",
    "You can start with any tree, but once you have started you can’t skip a tree. You will pick one fruit from each tree until you cannot, i.e., you will stop when you have to pick from a third fruit type.  \n",
    "Write a function to return the maximum number of fruits in both the baskets.  \n",
    "\n",
    "Example 1:  \n",
    "Input: Fruit=['A', 'B', 'C', 'A', 'C']  \n",
    "Output: 3  \n",
    "Explanation: We can put 2 'C' in one basket and one 'A' in the other from the subarray ['C', 'A', 'C']  \n",
    "\n",
    "Example 2:  \n",
    "Input: Fruit=['A', 'B', 'C', 'B', 'B', 'C']  \n",
    "Output: 5  \n",
    "Explanation: We can put 3 'B' in one basket and two 'C' in the other basket.   \n",
    "This can be done if we start with the second letter: ['B', 'C', 'B', 'B', 'C']  "
   ]
  },
  {
   "cell_type": "code",
   "execution_count": 37,
   "id": "every-moore",
   "metadata": {},
   "outputs": [],
   "source": [
    "def fruits_into_baskets(Fruit):\n",
    "    l = 0\n",
    "    dic = {}\n",
    "    maxfruit = 0\n",
    "    for r in range(len(Fruit)):\n",
    "        if Fruit[r] not in dic:\n",
    "            dic[Fruit[r]] = 1\n",
    "        else:\n",
    "            dic[Fruit[r]] += 1\n",
    "        if len(dic)>2:\n",
    "            dic[Fruit[l]] -= 1\n",
    "            if dic[Fruit[l]] == 0:\n",
    "                del dic[Fruit[l]]\n",
    "            l += 1\n",
    "        maxfruit = max(maxfruit, sum(dic.values()))\n",
    "    return maxfruit"
   ]
  },
  {
   "cell_type": "markdown",
   "id": "ongoing-observation",
   "metadata": {},
   "source": [
    "5# No-repeat Substring  "
   ]
  },
  {
   "cell_type": "markdown",
   "id": "handled-christopher",
   "metadata": {},
   "source": [
    "Problem Statement #  \n",
    "Given a string, find the length of the longest substring which has no repeating characters.  \n",
    "\n",
    "Example 1:  \n",
    "Input: String=\"aabccbb\"  \n",
    "Output: 3  \n",
    "Explanation: The longest substring without any repeating characters is \"abc\".  \n",
    "\n",
    "Example 2:  \n",
    "Input: String=\"abbbb\"  \n",
    "Output: 2  \n",
    "Explanation: The longest substring without any repeating characters is \"ab\".  \n",
    "\n",
    "Example 3:  \n",
    "Input: String=\"abccde\"  \n",
    "Output: 3  \n",
    "Explanation: Longest substrings without any repeating characters are \"abc\" & \"cde\".  "
   ]
  },
  {
   "cell_type": "code",
   "execution_count": 50,
   "id": "musical-filling",
   "metadata": {},
   "outputs": [],
   "source": [
    "def non_repeat_substring(s):\n",
    "    l = 0\n",
    "    dic = {}\n",
    "    maxlen = 0\n",
    "    for r in range(len(s)):\n",
    "        if s[r] not in dic:\n",
    "            dic[s[r]] = 1\n",
    "        else:\n",
    "            dic[s[r]] += 1\n",
    "        while dic[s[r]] > 1:\n",
    "            dic[s[l]] -= 1\n",
    "            l += 1\n",
    "        maxlen = max(maxlen,r-l+1)\n",
    "    return maxlen"
   ]
  },
  {
   "cell_type": "code",
   "execution_count": 53,
   "id": "superior-passenger",
   "metadata": {},
   "outputs": [],
   "source": [
    "# answer\n",
    "def non_repeat_substring(s):\n",
    "    l = 0\n",
    "    maxlen = 0\n",
    "    dic = {}   # dict records the last index of ‘key’\n",
    "    for r in range(len(s)):\n",
    "        if s[r] in dic:\n",
    "            l = max(l, dic[s[r]]+1)\n",
    "        dic[s[r]] = r\n",
    "        maxlen = max(maxlen, r-l+1)\n",
    "    return maxlen"
   ]
  },
  {
   "cell_type": "markdown",
   "id": "closed-former",
   "metadata": {},
   "source": [
    "6# Longest Substring with Same Letters after Replacement"
   ]
  },
  {
   "cell_type": "markdown",
   "id": "encouraging-hands",
   "metadata": {},
   "source": [
    "Problem Statement #  \n",
    "Given a string with lowercase letters only, if you are allowed to replace no more than ‘k’ letters with any letter, find the length of the longest substring having the same letters after replacement.  \n",
    "\n",
    "Example 1:  \n",
    "Input: String=\"aabccbb\", k=2  \n",
    "Output: 5  \n",
    "Explanation: Replace the two 'c' with 'b' to have a longest repeating substring \"bbbbb\".  \n",
    "\n",
    "Example 2:  \n",
    "Input: String=\"abbcb\", k=1  \n",
    "Output: 4  \n",
    "Explanation: Replace the 'c' with 'b' to have a longest repeating substring \"bbbb\".  \n",
    "\n",
    "Example 3:  \n",
    "Input: String=\"abccde\", k=1  \n",
    "Output: 3  \n",
    "Explanation: Replace the 'b' or 'd' with 'c' to have the longest repeating substring \"ccc\".  "
   ]
  },
  {
   "cell_type": "code",
   "execution_count": 57,
   "id": "muslim-element",
   "metadata": {},
   "outputs": [],
   "source": [
    "def length_of_longest_substring(s, k):\n",
    "    l = 0\n",
    "    dic = {}\n",
    "    maxlen = 0\n",
    "    for r in range(len(s)):\n",
    "        if s[r] not in dic:\n",
    "            dic[s[r]] = 1\n",
    "        else:\n",
    "            dic[s[r]] += 1\n",
    "        while r-l+1-max(dic.values()) > k:\n",
    "            dic[s[l]] -= 1\n",
    "            if dic[s[l]] == 0:\n",
    "                del dic[s[l]]\n",
    "            l += 1\n",
    "        maxlen = max(maxlen,r-l+1)\n",
    "    return maxlen"
   ]
  },
  {
   "cell_type": "markdown",
   "id": "dramatic-discount",
   "metadata": {},
   "source": [
    "7# Longest Subarray with Ones after Replacement "
   ]
  },
  {
   "cell_type": "markdown",
   "id": "political-briefing",
   "metadata": {},
   "source": [
    "Problem Statement #  \n",
    "Given an array containing 0s and 1s, if you are allowed to replace no more than ‘k’ 0s with 1s, find the length of the longest contiguous subarray having all 1s.  \n",
    "\n",
    "Example 1:  \n",
    "Input: Array=[0, 1, 1, 0, 0, 0, 1, 1, 0, 1, 1], k=2  \n",
    "Output: 6  \n",
    "Explanation: Replace the '0' at index 5 and 8 to have the longest contiguous subarray of 1s having length 6.  \n",
    "\n",
    "Example 2:   \n",
    "Input: Array=[0, 1, 0, 0, 1, 1, 0, 1, 1, 0, 0, 1, 1], k=3  \n",
    "Output: 9  \n",
    "Explanation: Replace the '0' at index 6, 9, and 10 to have the longest contiguous subarray of 1s having length 9.  "
   ]
  },
  {
   "cell_type": "code",
   "execution_count": 60,
   "id": "dental-mobility",
   "metadata": {},
   "outputs": [],
   "source": [
    "def length_of_longest_substring(nums, k):\n",
    "    l = 0\n",
    "    maxlen = 0\n",
    "    numberone = 0\n",
    "    for r in range(len(nums)):\n",
    "        if nums[r] == 1:\n",
    "            numberone += 1\n",
    "        while r-l+1-numberone > k:\n",
    "            if nums[l] == 1:\n",
    "                numberone -= 1\n",
    "            l += 1\n",
    "        maxlen = max(maxlen,r-l+1)\n",
    "    return maxlen"
   ]
  },
  {
   "cell_type": "markdown",
   "id": "adult-canal",
   "metadata": {},
   "source": [
    "8# Problem Challenge 1 *Permutation in a String"
   ]
  },
  {
   "cell_type": "markdown",
   "id": "threaded-stand",
   "metadata": {},
   "source": [
    "Problem Challenge 1 #  \n",
    "Permutation in a String (hard)   \n",
    "Given a string and a pattern, find out if the string contains any permutation of the pattern.  \n",
    "Permutation is defined as the re-arranging of the characters of the string. For example, “abc” has the following six permutations:  \n",
    "abc, acb, bac, bca, cab, cba  \n",
    "If a string has ‘n’ distinct characters it will have n!n! permutations.  \n",
    "\n",
    "Example 1:  \n",
    "Input: String=\"oidbcaf\", Pattern=\"abc\"  \n",
    "Output: true  \n",
    "Explanation: The string contains \"bca\" which is a permutation of the given pattern.  \n",
    "\n",
    "Example 2:  \n",
    "Input: String=\"odicf\", Pattern=\"dc\"  \n",
    "Output: false  \n",
    "Explanation: No permutation of the pattern is present in the given string as a substring.  \n",
    "\n",
    "Example 3:  \n",
    "Input: String=\"bcdxabcdy\", Pattern=\"bcdyabcdx\"  \n",
    "Output: true  \n",
    "Explanation: Both the string and the pattern are a permutation of each other.  \n",
    "\n",
    "Example 4:  \n",
    "Input: String=\"aaacb\", Pattern=\"abc\"  \n",
    "Output: true  \n",
    "Explanation: The string contains \"acb\" which is a permutation of the given pattern.  "
   ]
  },
  {
   "cell_type": "code",
   "execution_count": null,
   "id": "harmful-applicant",
   "metadata": {},
   "outputs": [],
   "source": [
    "def find_permutation(string, pattern):\n",
    "    dic = {}  # records the pattern\n",
    "    \n",
    "    \n",
    "    "
   ]
  }
 ],
 "metadata": {
  "kernelspec": {
   "display_name": "Python 3",
   "language": "python",
   "name": "python3"
  },
  "language_info": {
   "codemirror_mode": {
    "name": "ipython",
    "version": 3
   },
   "file_extension": ".py",
   "mimetype": "text/x-python",
   "name": "python",
   "nbconvert_exporter": "python",
   "pygments_lexer": "ipython3",
   "version": "3.8.0"
  }
 },
 "nbformat": 4,
 "nbformat_minor": 5
}
